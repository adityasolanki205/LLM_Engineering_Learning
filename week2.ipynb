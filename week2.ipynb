{
 "cells": [
  {
   "cell_type": "code",
   "execution_count": 5,
   "id": "fe1ce404-d212-4f79-912b-0bbb80d3d1b3",
   "metadata": {},
   "outputs": [],
   "source": [
    "import os\n",
    "from dotenv import load_dotenv\n",
    "from openai import OpenAI\n",
    "import anthropic\n",
    "from IPython.display import Markdown, display, update_display\n",
    "import google.generativeai"
   ]
  },
  {
   "cell_type": "code",
   "execution_count": 6,
   "id": "d79d218a-8b10-4414-ac5c-9942ef6f0570",
   "metadata": {},
   "outputs": [
    {
     "name": "stdout",
     "output_type": "stream",
     "text": [
      "OpenAI API Key exists and begins sk-proj-\n",
      "Google API Key exists and begins AIzaSyAt\n"
     ]
    }
   ],
   "source": [
    "# Load environment variables in a file called .env\n",
    "# Print the key prefixes to help with any debugging\n",
    "\n",
    "load_dotenv(override=True)\n",
    "openai_api_key = os.getenv('OPENAI_API_KEY')\n",
    "google_api_key = os.getenv('GOOGLE_API_KEY')\n",
    "\n",
    "if openai_api_key:\n",
    "    print(f\"OpenAI API Key exists and begins {openai_api_key[:8]}\")\n",
    "else:\n",
    "    print(\"OpenAI API Key not set\")\n",
    "    \n",
    "\n",
    "if google_api_key:\n",
    "    print(f\"Google API Key exists and begins {google_api_key[:8]}\")\n",
    "else:\n",
    "    print(\"Google API Key not set\")"
   ]
  },
  {
   "cell_type": "code",
   "execution_count": 7,
   "id": "9cf0b9d2-690f-43d0-991c-2fc18215802c",
   "metadata": {},
   "outputs": [],
   "source": [
    "openai = OpenAI()"
   ]
  },
  {
   "cell_type": "code",
   "execution_count": 8,
   "id": "9b794787-d709-474b-887c-ce3fd86a2a66",
   "metadata": {},
   "outputs": [],
   "source": [
    "google.generativeai.configure()"
   ]
  },
  {
   "cell_type": "code",
   "execution_count": 9,
   "id": "c889545f-7c4b-419d-b487-a617b7406a56",
   "metadata": {},
   "outputs": [],
   "source": [
    "system_message = \"You are an assistant that is great at telling jokes\"\n",
    "user_prompt = \"Tell a light-hearted joke for an audience of Data Scientists\""
   ]
  },
  {
   "cell_type": "code",
   "execution_count": 10,
   "id": "98dec04c-a8f7-4ec4-a883-cc03ac99946e",
   "metadata": {},
   "outputs": [],
   "source": [
    "prompts = [\n",
    "    {\"role\": \"system\", \"content\": system_message},\n",
    "    {\"role\": \"user\", \"content\": user_prompt}\n",
    "  ]"
   ]
  },
  {
   "cell_type": "code",
   "execution_count": 11,
   "id": "25ea140d-4049-4e51-a805-5a65a03d2af4",
   "metadata": {},
   "outputs": [
    {
     "name": "stdout",
     "output_type": "stream",
     "text": [
      "Why did the data scientist break up with the graph?\n",
      "\n",
      "Because it was too *scatter*-brained and couldn't find the right *correlation*!\n"
     ]
    }
   ],
   "source": [
    "completion = openai.chat.completions.create(\n",
    "    model='gpt-4.1-mini',\n",
    "    messages=prompts,\n",
    "    temperature=0.7\n",
    ")\n",
    "print(completion.choices[0].message.content)"
   ]
  },
  {
   "cell_type": "code",
   "execution_count": 14,
   "id": "d535c507-fac6-491b-b8a6-0c62f443722e",
   "metadata": {},
   "outputs": [
    {
     "name": "stdout",
     "output_type": "stream",
     "text": [
      "Why did the data scientist break up with the spreadsheet?\n",
      "\n",
      "Because she thought he was too \"cell-fish\" and couldn’t commit to a single column!\n"
     ]
    }
   ],
   "source": [
    "completion = openai.chat.completions.create(\n",
    "    model='gpt-4.1',\n",
    "    messages=prompts,\n",
    "    temperature=0.4\n",
    ")\n",
    "print(completion.choices[0].message.content)"
   ]
  },
  {
   "cell_type": "code",
   "execution_count": 12,
   "id": "8c3dd57d-bf25-46ed-9e60-30a47dca7aec",
   "metadata": {},
   "outputs": [
    {
     "name": "stdout",
     "output_type": "stream",
     "text": [
      "Why was the equal sign so humble?\n",
      "\n",
      "Because it knew it wasn't less than or greater than anyone else!\n",
      "\n"
     ]
    }
   ],
   "source": [
    "gemini = google.generativeai.GenerativeModel(\n",
    "    model_name='gemini-2.0-flash',\n",
    "    system_instruction=system_message\n",
    ")\n",
    "response = gemini.generate_content(user_prompt)\n",
    "print(response.text)"
   ]
  },
  {
   "cell_type": "code",
   "execution_count": 13,
   "id": "90bdffb7-6801-4102-b4e9-fe8db1f43baf",
   "metadata": {},
   "outputs": [
    {
     "name": "stdout",
     "output_type": "stream",
     "text": [
      "response:\n",
      "GenerateContentResponse(\n",
      "    done=True,\n",
      "    iterator=None,\n",
      "    result=protos.GenerateContentResponse({\n",
      "      \"candidates\": [\n",
      "        {\n",
      "          \"content\": {\n",
      "            \"parts\": [\n",
      "              {\n",
      "                \"text\": \"Why was the equal sign so humble?\\n\\nBecause it knew it wasn't less than or greater than anyone else!\\n\"\n",
      "              }\n",
      "            ],\n",
      "            \"role\": \"model\"\n",
      "          },\n",
      "          \"finish_reason\": \"STOP\",\n",
      "          \"avg_logprobs\": -0.3420204925537109\n",
      "        }\n",
      "      ],\n",
      "      \"usage_metadata\": {\n",
      "        \"prompt_token_count\": 22,\n",
      "        \"candidates_token_count\": 25,\n",
      "        \"total_token_count\": 47\n",
      "      },\n",
      "      \"model_version\": \"gemini-2.0-flash\"\n",
      "    }),\n",
      ")\n"
     ]
    }
   ],
   "source": [
    "print(response)"
   ]
  },
  {
   "cell_type": "code",
   "execution_count": 15,
   "id": "dc6cd836-eec5-4dcd-80b7-d79050c3e935",
   "metadata": {},
   "outputs": [],
   "source": [
    "prompts = [\n",
    "    {\"role\": \"system\", \"content\": \"You are a helpful assistant that responds in Markdown\"},\n",
    "    {\"role\": \"user\", \"content\": \"How do I decide if a business problem is suitable for an LLM solution? Please respond in Markdown.\"}\n",
    "  ]"
   ]
  },
  {
   "cell_type": "code",
   "execution_count": 16,
   "id": "95fb580a-4dcd-421d-8fd1-b64e2ff75ad5",
   "metadata": {},
   "outputs": [
    {
     "data": {
      "text/markdown": [
       "\n",
       "# How to Decide if a Business Problem is Suitable for an LLM Solution\n",
       "\n",
       "Large Language Models (LLMs) like GPT-4 can be powerful tools, but they are not ideal for every business problem. To determine if an LLM solution is appropriate, consider the following criteria:\n",
       "\n",
       "## 1. Nature of the Problem\n",
       "- **Text-Centric:** The problem involves natural language understanding, generation, summarization, translation, or extraction.\n",
       "- **Conversational or Interactive:** Use cases like chatbots, virtual assistants, or customer support.\n",
       "- **Knowledge-Intensive:** Requires synthesizing information from large text corpora or generating explanations.\n",
       "- **Creative Tasks:** Content creation, marketing copy, or brainstorming ideas.\n",
       "\n",
       "## 2. Data Availability and Format\n",
       "- **Unstructured Text Data:** LLMs excel with unstructured text rather than structured data like spreadsheets or databases.\n",
       "- **Sufficient Context:** The input data must provide enough context for the model to understand and generate meaningful output.\n",
       "- **Privacy and Compliance:** Ensure data used respects privacy and regulatory constraints, as LLMs may have limitations in handling sensitive information securely.\n",
       "\n",
       "## 3. Desired Output\n",
       "- **Natural Language Outputs:** Responses, summaries, code generation, or text transformations.\n",
       "- **Flexibility over Precision:** Situations where approximate or creative answers are acceptable over exact numeric predictions.\n",
       "\n",
       "## 4. Complexity and Specificity\n",
       "- **General vs. Specialized Knowledge:** LLMs are good at general knowledge and language tasks but may struggle with highly specialized or domain-specific problems without fine-tuning.\n",
       "- **Rule-Based vs. Generative:** Problems requiring strict logic or deterministic outputs may not suit LLMs well.\n",
       "\n",
       "## 5. Scalability and Integration\n",
       "- **API or Cloud Access:** LLMs typically require cloud APIs; consider latency, cost, and integration complexity.\n",
       "- **Real-Time Needs:** Evaluate if the LLM’s response time fits operational requirements.\n",
       "\n",
       "## 6. Cost Considerations\n",
       "- **Budget for Usage:** LLMs can be costly at scale; weigh this against the business value.\n",
       "- **Maintenance and Updates:** Consider ongoing costs for model updates, monitoring, and compliance.\n",
       "\n",
       "---\n",
       "\n",
       "## Summary Checklist\n",
       "\n",
       "| Criteria                         | Suitable for LLM?                         |\n",
       "|---------------------------------|-----------------------------------------|\n",
       "| Problem involves natural language| Yes                                     |\n",
       "| Requires structured numeric data | No                                      |\n",
       "| Needs creative or flexible output| Yes                                     |\n",
       "| Demands strict, rule-based logic | No                                      |\n",
       "| Sensitive data handling          | Caution needed                          |\n",
       "| Real-time critical responses    | Depends on latency tolerance             |\n",
       "| Budget supports API usage       | Yes                                     |\n",
       "\n",
       "---\n",
       "\n",
       "**In conclusion:**  \n",
       "If your business problem involves understanding or generating human language, is not strictly rule-based, and you have access to appropriate textual data and budget, an LLM solution is likely suitable. Otherwise, consider alternative AI or traditional software approaches.\n",
       "\n"
      ],
      "text/plain": [
       "<IPython.core.display.Markdown object>"
      ]
     },
     "metadata": {},
     "output_type": "display_data"
    }
   ],
   "source": [
    "stream = openai.chat.completions.create(\n",
    "    model='gpt-4.1-mini',\n",
    "    messages=prompts,\n",
    "    temperature=0.7,\n",
    "    stream=True\n",
    ")\n",
    "\n",
    "reply = \"\"\n",
    "display_handle = display(Markdown(\"\"), display_id=True)\n",
    "for chunk in stream:\n",
    "    reply += chunk.choices[0].delta.content or ''\n",
    "    reply = reply.replace(\"```\",\"\").replace(\"markdown\",\"\")\n",
    "    update_display(Markdown(reply), display_id=display_handle.display_id)"
   ]
  },
  {
   "cell_type": "code",
   "execution_count": null,
   "id": "39eb50a2-73ec-4f0a-9ed7-e988ec52a0a1",
   "metadata": {},
   "outputs": [],
   "source": []
  }
 ],
 "metadata": {
  "kernelspec": {
   "display_name": "Python 3 (ipykernel)",
   "language": "python",
   "name": "python3"
  },
  "language_info": {
   "codemirror_mode": {
    "name": "ipython",
    "version": 3
   },
   "file_extension": ".py",
   "mimetype": "text/x-python",
   "name": "python",
   "nbconvert_exporter": "python",
   "pygments_lexer": "ipython3",
   "version": "3.11.13"
  }
 },
 "nbformat": 4,
 "nbformat_minor": 5
}
